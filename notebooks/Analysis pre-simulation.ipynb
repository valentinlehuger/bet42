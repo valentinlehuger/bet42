{
 "cells": [
  {
   "cell_type": "code",
   "execution_count": null,
   "metadata": {
    "collapsed": false
   },
   "outputs": [],
   "source": [
    "from betlib.models.game import find_games\n",
    "from betlib.models.competition import find_competition_by_name\n",
    "from betlib.models.team import find_team_by_id\n",
    "from betlib.mongo import get_db\n",
    "from bson import ObjectId"
   ]
  },
  {
   "cell_type": "code",
   "execution_count": null,
   "metadata": {
    "collapsed": true
   },
   "outputs": [],
   "source": [
    "parameters = {\n",
    "    \"division\": \"Eredivisie\",\n",
    "    \"start_year\": 2003,\n",
    "    \"end_year\": 2015\n",
    "}"
   ]
  },
  {
   "cell_type": "code",
   "execution_count": null,
   "metadata": {
    "collapsed": false
   },
   "outputs": [],
   "source": [
    "division = find_competition_by_name(parameters[\"division\"])"
   ]
  },
  {
   "cell_type": "code",
   "execution_count": null,
   "metadata": {
    "collapsed": false
   },
   "outputs": [],
   "source": [
    "division"
   ]
  },
  {
   "cell_type": "code",
   "execution_count": null,
   "metadata": {
    "collapsed": false,
    "scrolled": false
   },
   "outputs": [],
   "source": [
    "season_stats = dict()\n",
    "\n",
    "for year in range(parameters[\"start_year\"], parameters[\"end_year\"] + 1):\n",
    "    season = [str(year), str(year + 1)]\n",
    "    season_string = \"%s_%s\" % (season[0], season[1])\n",
    "\n",
    "    season_stats[season_string] = dict()\n",
    "    \n",
    "    season_games = [g for g in find_games({\n",
    "        \"division\": division[\"_id\"],\n",
    "        \"season\": season\n",
    "    })]\n",
    "    \n",
    "    season_stats[season_string][\"number_of_games\"] = len(season_games)\n",
    "    season_stats[season_string][\"season_teams\"] = set([g[\"team_H\"] for g in season_games] + [g[\"team_A\"] for g in season_games])\n",
    "    season_stats[season_string][\"number_of_teams\"] = len(season_stats[season_string][\"season_teams\"])\n",
    "    \n",
    "    print \"###  %s/%s  ###\" % (season[0], season[1])\n",
    "    print \"--> %d teams\" % season_stats[season_string][\"number_of_teams\"]\n",
    "#    print [find_team_by_id(x)[\"name\"] for x in list(season_stats[season_string][\"season_teams\"])]\n",
    "    \n",
    "    if season_stats[season_string][\"number_of_teams\"] * (season_stats[season_string][\"number_of_teams\"] - 1) == season_stats[season_string][\"number_of_games\"]:\n",
    "        print \"[OK] : \" + \" It seems to be the RIGHT number of games. ===> %d\" % season_stats[season_string][\"number_of_games\"]\n",
    "    else:\n",
    "        print \"[WARNING]: \" + \" It appears to be [%d games] and whe should have [%d games].\" % (season_stats[season_string][\"number_of_games\"], season_stats[season_string][\"number_of_teams\"] * (season_stats[season_string][\"number_of_teams\"] - 1))\n",
    "    \n",
    "    season_stats[season_string][\"game_with_odds_number\"] = 0\n",
    "    season_stats[season_string][\"games_with_score\"] = 0\n",
    "    season_stats[season_string][\"games_with_shots\"] = 0\n",
    "    for game in season_games:\n",
    "        if \"bets\" in game:\n",
    "            season_stats[season_string][\"game_with_odds_number\"] += 1\n",
    "        if \"score\" in game and \"final\" in game[\"score\"]:\n",
    "            season_stats[season_string][\"games_with_score\"] += 1\n",
    "        if \"shots\" in game and \"home\" in game[\"shots\"] and \"away\" in game[\"shots\"]:\n",
    "            season_stats[season_string][\"games_with_shots\"] += 1\n",
    "            \n",
    "            \n",
    "    # Odds result display\n",
    "#    if season_stats[season_string][\"game_with_odds_number\"] == season_stats[season_string][\"number_of_games\"]:\n",
    "#        print \"[OK] : \" + \"It seems to have the RIGHT number of games with odds.\"\n",
    "#    elif season_stats[season_string][\"game_with_odds_number\"] > 0:\n",
    "#        print \"[WARNING] : \" + \"It appears to have just %d games with odds.\" % season_stats[season_string][\"game_with_odds_number\"]\n",
    "#    else:\n",
    "#        print \"[WARNING] : \" + \"It appears to have no game with odds.\"\n",
    "\n",
    "        \n",
    "    # Score result display\n",
    "    if season_stats[season_string][\"games_with_score\"] == season_stats[season_string][\"number_of_games\"]:\n",
    "        print \"[OK] : \" + \"It seems to have the RIGHT number of games with score.\"\n",
    "    elif season_stats[season_string][\"games_with_score\"] > 0:\n",
    "        print \"[WARNING] : \" + \"It appears to have just %d games with score.\" % season_stats[season_string][\"games_with_score\"]\n",
    "    else:\n",
    "        print \"[WARNING] : \" + \"It appears to have no game with score.\"\n",
    "\n",
    "        \n",
    "    # Shots result display\n",
    "#    if season_stats[season_string][\"games_with_shots\"] == season_stats[season_string][\"number_of_games\"]:\n",
    "#        print \"[OK] : \" + \"It seems to have the RIGHT number of games with shots.\"\n",
    "#    elif season_stats[season_string][\"games_with_shots\"] > 0:\n",
    "#        print \"[WARNING] : \" + \"It appears to have just %d games with shots.\" % season_stats[season_string][\"games_with_shots\"]\n",
    "#    else:\n",
    "#        print \"[WARNING] : \" + \"It appears to have no game with shots.\"\n",
    "\n",
    "\n",
    "        \n",
    "    print\n",
    "    \n"
   ]
  },
  {
   "cell_type": "code",
   "execution_count": null,
   "metadata": {
    "collapsed": true
   },
   "outputs": [],
   "source": []
  },
  {
   "cell_type": "code",
   "execution_count": null,
   "metadata": {
    "collapsed": true
   },
   "outputs": [],
   "source": []
  },
  {
   "cell_type": "code",
   "execution_count": null,
   "metadata": {
    "collapsed": true
   },
   "outputs": [],
   "source": []
  },
  {
   "cell_type": "code",
   "execution_count": null,
   "metadata": {
    "collapsed": true
   },
   "outputs": [],
   "source": [
    "games = [g for g in find_games({\"season\": [\"2005\", \"2006\"], \"division\": division[\"_id\"]})]"
   ]
  },
  {
   "cell_type": "code",
   "execution_count": null,
   "metadata": {
    "collapsed": false
   },
   "outputs": [],
   "source": [
    "dates = list()\n",
    "\n",
    "for g in games:\n",
    "    if g[\"team_H\"] == ObjectId(\"55abe4991461574dfd8ea4e2\") or g[\"team_A\"] == ObjectId(\"55abe4991461574dfd8ea4e2\"):\n",
    "        if g[\"date\"] not in dates:\n",
    "            dates.append(g[\"date\"])\n",
    "        else:\n",
    "            print g[\"date\"]\n",
    "    if g[\"team_H\"] == ObjectId(\"559189f5973404276afa61a7\") or g[\"team_A\"] == ObjectId(\"559189f5973404276afa61a7\"):\n",
    "        if g[\"date\"] not in dates:\n",
    "            dates.append(g[\"date\"])\n",
    "        else:\n",
    "            print g[\"date\"]\n",
    "\n",
    "print len(dates)"
   ]
  },
  {
   "cell_type": "code",
   "execution_count": null,
   "metadata": {
    "collapsed": true
   },
   "outputs": [],
   "source": [
    "matchs_numbers = dict()\n",
    "\n",
    "for g in games:\n",
    "    if g[\"team_H\"] not in matchs_numbers:\n",
    "        matchs_numbers[g[\"team_H\"]] = 0\n",
    "    if g[\"team_A\"] not in matchs_numbers:\n",
    "        matchs_numbers[g[\"team_A\"]] = 0\n",
    "    matchs_numbers[g[\"team_H\"]] += 1\n",
    "    matchs_numbers[g[\"team_A\"]] += 1"
   ]
  },
  {
   "cell_type": "code",
   "execution_count": null,
   "metadata": {
    "collapsed": false
   },
   "outputs": [],
   "source": [
    "for t in matchs_numbers:\n",
    "    print find_team_by_id(t)[\"_id\"], matchs_numbers[t]"
   ]
  },
  {
   "cell_type": "code",
   "execution_count": null,
   "metadata": {
    "collapsed": true
   },
   "outputs": [],
   "source": []
  }
 ],
 "metadata": {
  "kernelspec": {
   "display_name": "Python 2",
   "language": "python",
   "name": "python2"
  },
  "language_info": {
   "codemirror_mode": {
    "name": "ipython",
    "version": 2
   },
   "file_extension": ".py",
   "mimetype": "text/x-python",
   "name": "python",
   "nbconvert_exporter": "python",
   "pygments_lexer": "ipython2",
   "version": "2.7.9"
  }
 },
 "nbformat": 4,
 "nbformat_minor": 0
}
