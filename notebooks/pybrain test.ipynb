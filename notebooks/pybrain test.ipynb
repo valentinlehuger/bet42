{
 "cells": [
  {
   "cell_type": "code",
   "execution_count": null,
   "metadata": {
    "collapsed": false
   },
   "outputs": [],
   "source": [
    "from betlib.models.game import find_games\n",
    "import json"
   ]
  },
  {
   "cell_type": "code",
   "execution_count": null,
   "metadata": {
    "collapsed": true
   },
   "outputs": [],
   "source": [
    "with open(\"/Users/valentin/Projets/prono_foot/data/crawl_soccerway_FR/calendar/%s.json\" % \"calendar_2010_2015\", \"r\") as f:\n",
    "    calendar = json.load(f)\n",
    "    f.close()"
   ]
  },
  {
   "cell_type": "code",
   "execution_count": null,
   "metadata": {
    "collapsed": true
   },
   "outputs": [],
   "source": [
    "with open(\"/Users/valentin/Projets/prono_foot/data/crawl_soccerway_FR/games/%s.json\" % \"games_2014\", \"r\") as f:\n",
    "    games = json.load(f)\n",
    "    f.close()"
   ]
  },
  {
   "cell_type": "code",
   "execution_count": null,
   "metadata": {
    "collapsed": false
   },
   "outputs": [],
   "source": [
    "list_games = dict()\n",
    "\n",
    "for d in calendar:\n",
    "    for m in range(7):\n",
    "        if \"2014_0\" + str(m) in d:\n",
    "            for div in calendar[d]:\n",
    "                if div == \"England - Premier League\":\n",
    "                    for game in calendar[d][div]:\n",
    "                        if d not in list_games:\n",
    "                            list_games[d] = list()\n",
    "                        list_games[d].append(game[\"game_link\"])\n",
    "\n"
   ]
  },
  {
   "cell_type": "code",
   "execution_count": null,
   "metadata": {
    "collapsed": false
   },
   "outputs": [],
   "source": [
    "for d in list_games:\n",
    "    for c_game in list_games[d]:\n",
    "        for ref_g in games:\n",
    "            if ref_g[\"game_link\"] == c_game:\n",
    "                print d + \",\" + ref_g[\"team_H\"][\"link\"] +\",\" + ref_g[\"team_A\"][\"link\"] + \",\" + ref_g[\"scores\"][\"final\"]"
   ]
  },
  {
   "cell_type": "code",
   "execution_count": null,
   "metadata": {
    "collapsed": false
   },
   "outputs": [],
   "source": []
  },
  {
   "cell_type": "code",
   "execution_count": null,
   "metadata": {
    "collapsed": false
   },
   "outputs": [],
   "source": []
  },
  {
   "cell_type": "code",
   "execution_count": null,
   "metadata": {
    "collapsed": false
   },
   "outputs": [],
   "source": [
    "# db.games.find({$query: {\"season\": [\"2005\", \"2006\"], \"division\": \"Premier League\"}, $orderby: {date: 1}})\n",
    "\n",
    "season_2005_2006_PL = [game for game in find_games({\"$query\": {\"season\": [\"2005\", \"2006\"], \"division\": \"Premier League\"}, \"$orderby\": {\"date\": 1}})]\n"
   ]
  },
  {
   "cell_type": "code",
   "execution_count": null,
   "metadata": {
    "collapsed": false
   },
   "outputs": [],
   "source": [
    "for g in season_2005_2006_PL:\n",
    "    print \"%s,%s,%s,%s - %s\" % (g[\"date\"], g[\"team_H\"], g[\"team_A\"], g[\"score\"][\"final\"][\"home\"], g[\"score\"][\"final\"][\"away\"])"
   ]
  },
  {
   "cell_type": "code",
   "execution_count": null,
   "metadata": {
    "collapsed": true
   },
   "outputs": [],
   "source": []
  }
 ],
 "metadata": {
  "kernelspec": {
   "display_name": "Python 2",
   "language": "python",
   "name": "python2"
  },
  "language_info": {
   "codemirror_mode": {
    "name": "ipython",
    "version": 2
   },
   "file_extension": ".py",
   "mimetype": "text/x-python",
   "name": "python",
   "nbconvert_exporter": "python",
   "pygments_lexer": "ipython2",
   "version": "2.7.9"
  }
 },
 "nbformat": 4,
 "nbformat_minor": 0
}
