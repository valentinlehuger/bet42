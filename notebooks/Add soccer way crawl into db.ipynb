{
 "cells": [
  {
   "cell_type": "code",
   "execution_count": null,
   "metadata": {
    "collapsed": true
   },
   "outputs": [],
   "source": [
    "import json"
   ]
  },
  {
   "cell_type": "markdown",
   "metadata": {
    "collapsed": true
   },
   "source": [
    "## Load calendars"
   ]
  },
  {
   "cell_type": "code",
   "execution_count": null,
   "metadata": {
    "collapsed": false
   },
   "outputs": [],
   "source": [
    "with open(\"/Users/valentin/Projets/prono_foot/data/crawl_soccerway_FR/calendar/%s.json\" % \"calendar_1990_1996\", \"r\") as f:\n",
    "    calendar = json.load(f)\n",
    "    f.close()"
   ]
  },
  {
   "cell_type": "code",
   "execution_count": null,
   "metadata": {
    "collapsed": true
   },
   "outputs": [],
   "source": []
  },
  {
   "cell_type": "markdown",
   "metadata": {},
   "source": [
    "### Find unique competitions"
   ]
  },
  {
   "cell_type": "code",
   "execution_count": null,
   "metadata": {
    "collapsed": false
   },
   "outputs": [],
   "source": [
    "competitions = list()\n",
    "for day in calendar :\n",
    "    for competition in calendar[day]:\n",
    "        c = competition.split(\" - \")\n",
    "        compet = {\n",
    "            \"region\": c[0],\n",
    "            \"name\": \" - \".join(c[1:])\n",
    "        }\n",
    "        if compet not in competitions:\n",
    "            competitions.append(compet)\n"
   ]
  },
  {
   "cell_type": "code",
   "execution_count": null,
   "metadata": {
    "collapsed": false
   },
   "outputs": [],
   "source": [
    "\n",
    "print len(competitions)\n",
    "\n",
    "regions = set()\n",
    "for competition in competitions:\n",
    "    regions.add(competition[\"region\"])\n",
    "print len(regions)\n",
    "print regions"
   ]
  },
  {
   "cell_type": "code",
   "execution_count": null,
   "metadata": {
    "collapsed": true
   },
   "outputs": [],
   "source": []
  },
  {
   "cell_type": "code",
   "execution_count": null,
   "metadata": {
    "collapsed": true
   },
   "outputs": [],
   "source": [
    "from betlib.models.competition import add_competition\n",
    "for competition in competitions:\n",
    "    add_competition(competition)"
   ]
  },
  {
   "cell_type": "code",
   "execution_count": null,
   "metadata": {
    "collapsed": true
   },
   "outputs": [],
   "source": []
  },
  {
   "cell_type": "code",
   "execution_count": null,
   "metadata": {
    "collapsed": true
   },
   "outputs": [],
   "source": []
  },
  {
   "cell_type": "markdown",
   "metadata": {},
   "source": [
    "## Load games"
   ]
  },
  {
   "cell_type": "code",
   "execution_count": null,
   "metadata": {
    "collapsed": false
   },
   "outputs": [],
   "source": [
    "with open(\"/Users/valentin/Projets/prono_foot/data/crawl_soccerway_FR/games/%s.json\" % \"games_2005\", \"r\") as f:\n",
    "    games = json.load(f)\n",
    "    f.close()"
   ]
  },
  {
   "cell_type": "code",
   "execution_count": null,
   "metadata": {
    "collapsed": false
   },
   "outputs": [],
   "source": [
    "regions = set()\n",
    "for i, game in enumerate(games):\n",
    "    if i == 2110:\n",
    "        print game\n",
    "    regions.add(game[\"country\"])\n",
    "print len(games)"
   ]
  },
  {
   "cell_type": "code",
   "execution_count": null,
   "metadata": {
    "collapsed": false
   },
   "outputs": [],
   "source": [
    "print len(regions)"
   ]
  },
  {
   "cell_type": "code",
   "execution_count": null,
   "metadata": {
    "collapsed": false
   },
   "outputs": [],
   "source": [
    "print regions"
   ]
  },
  {
   "cell_type": "code",
   "execution_count": null,
   "metadata": {
    "collapsed": false
   },
   "outputs": [],
   "source": [
    "from betlib.models.region import find_region, add_region_alias, find_region_by_name\n",
    "\n",
    "for region in regions:\n",
    "    if find_region_by_name(region) == None:\n",
    "        print region"
   ]
  },
  {
   "cell_type": "code",
   "execution_count": null,
   "metadata": {
    "collapsed": false
   },
   "outputs": [],
   "source": [
    "add_region_alias(\"South America\", u'Am\\xe9rique du Sud')"
   ]
  },
  {
   "cell_type": "code",
   "execution_count": null,
   "metadata": {
    "collapsed": true
   },
   "outputs": [],
   "source": []
  },
  {
   "cell_type": "code",
   "execution_count": null,
   "metadata": {
    "collapsed": true
   },
   "outputs": [],
   "source": []
  },
  {
   "cell_type": "code",
   "execution_count": null,
   "metadata": {
    "collapsed": false
   },
   "outputs": [],
   "source": [
    "from betlib.models.team import add_team\n",
    "\n",
    "teams = list()\n",
    "for game in games:\n",
    "    if game[\"team_H\"] not in teams:\n",
    "        teams.append(game[\"team_H\"])\n",
    "        add_team(game[\"team_H\"])\n",
    "    if game[\"team_A\"] not in teams:\n",
    "        teams.append(game[\"team_A\"])\n",
    "        add_team(game[\"team_A\"])"
   ]
  },
  {
   "cell_type": "code",
   "execution_count": null,
   "metadata": {
    "collapsed": false
   },
   "outputs": [],
   "source": []
  },
  {
   "cell_type": "code",
   "execution_count": null,
   "metadata": {
    "collapsed": false
   },
   "outputs": [],
   "source": []
  },
  {
   "cell_type": "code",
   "execution_count": null,
   "metadata": {
    "collapsed": false
   },
   "outputs": [],
   "source": [
    "from betlib.models.people import add_people\n",
    "\n",
    "none_nb = 0\n",
    "peoples = list()\n",
    "for game in games:\n",
    "        for team in game['teams']:\n",
    "            for status in game['teams'][team]:\n",
    "                if game['teams'][team][status] is None:\n",
    "                        none_nb += 1\n",
    "                else:\n",
    "                    for people in game['teams'][team][status]:\n",
    "                        if people not in peoples:\n",
    "                            peoples.append(people)\n",
    "                            if \"name\" in people and \"id\" in people:\n",
    "                                add_people({\"name\": people[\"name\"], \"link\": \"http://fr.soccerway\" + people[\"id\"]})\n",
    "\n",
    "print len(peoples)"
   ]
  },
  {
   "cell_type": "code",
   "execution_count": null,
   "metadata": {
    "collapsed": true
   },
   "outputs": [],
   "source": []
  },
  {
   "cell_type": "code",
   "execution_count": null,
   "metadata": {
    "collapsed": true
   },
   "outputs": [],
   "source": []
  },
  {
   "cell_type": "code",
   "execution_count": null,
   "metadata": {
    "collapsed": false
   },
   "outputs": [],
   "source": [
    "from betlib.models.stadium import add_stadium\n",
    "\n",
    "for game in games:\n",
    "    if \"stadium\" in game and game[\"stadium\"] is not None:\n",
    "        print game[\"stadium\"]\n",
    "        add_stadium({\"name\": game[\"stadium\"]})"
   ]
  },
  {
   "cell_type": "code",
   "execution_count": null,
   "metadata": {
    "collapsed": true
   },
   "outputs": [],
   "source": []
  },
  {
   "cell_type": "markdown",
   "metadata": {
    "collapsed": false
   },
   "source": [
    "## Add game in db"
   ]
  },
  {
   "cell_type": "code",
   "execution_count": null,
   "metadata": {
    "collapsed": false
   },
   "outputs": [],
   "source": [
    "from betlib.models.game import add_game\n",
    "\n",
    "for game in games:\n",
    "    if \"half-time\" in game[\"scores\"] and \"final\" not in game[\"scores\"]:\n",
    "        game[\"scores\"][\"final\"] = game[\"scores\"][\"half-time\"]\n",
    "        game[\"scores\"][\"half-time\"] = \" - \"\n",
    "    add_game({\n",
    "            \"link\": [\"http://fr.soccerway.com\" + game[\"game_link\"]],\n",
    "            \"team_H\": game[\"team_H\"][\"name\"],\n",
    "            \"team_A\": game[\"team_A\"][\"name\"],\n",
    "            \"score\": {\n",
    "                \"half_time\": {\n",
    "                    \"home\": game[\"scores\"][\"half-time\"].split(\" - \")[0],\n",
    "                    \"away\": game[\"scores\"][\"half-time\"].split(\" - \")[1],\n",
    "                },\n",
    "                \"final\": {\n",
    "                    \"home\": game[\"scores\"].get(\"final\", \"\").split(\" - \")[0],\n",
    "                    \"away\": game[\"scores\"].get(\"final\", \" - \").split(\" - \")[1],\n",
    "                }\n",
    "            },\n",
    "            \"stadium\": game[\"stadium\"],\n",
    "            \"start-time\": game[\"start_time\"],\n",
    "            \"date\": game[\"date\"],\n",
    "            \"region\": game[\"country\"],\n",
    "            \"division\": game[\"division\"],\n",
    "        })"
   ]
  },
  {
   "cell_type": "code",
   "execution_count": null,
   "metadata": {
    "collapsed": false
   },
   "outputs": [],
   "source": [
    "print len(games)\n"
   ]
  },
  {
   "cell_type": "code",
   "execution_count": null,
   "metadata": {
    "collapsed": true
   },
   "outputs": [],
   "source": []
  }
 ],
 "metadata": {
  "kernelspec": {
   "display_name": "Python 2",
   "language": "python",
   "name": "python2"
  },
  "language_info": {
   "codemirror_mode": {
    "name": "ipython",
    "version": 2
   },
   "file_extension": ".py",
   "mimetype": "text/x-python",
   "name": "python",
   "nbconvert_exporter": "python",
   "pygments_lexer": "ipython2",
   "version": "2.7.6"
  }
 },
 "nbformat": 4,
 "nbformat_minor": 0
}
