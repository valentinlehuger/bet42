{
 "metadata": {
  "name": "",
  "signature": "sha256:e65cd24f25f97ca793982e89baa9934d5351650598f2bb388da3f0e421d44cea"
 },
 "nbformat": 3,
 "nbformat_minor": 0,
 "worksheets": [
  {
   "cells": [
    {
     "cell_type": "code",
     "collapsed": false,
     "input": [],
     "language": "python",
     "metadata": {},
     "outputs": [],
     "prompt_number": 14
    },
    {
     "cell_type": "code",
     "collapsed": false,
     "input": [
      "game_params = {\n",
      "    \"championship\": \"ligue_1\",\n",
      "    \"years\": [2014, 2015],\n",
      "    \"team_H\": \"paris\",\n",
      "    \"team_A\": \"rennes\"\n",
      "}"
     ],
     "language": "python",
     "metadata": {},
     "outputs": [],
     "prompt_number": 1
    },
    {
     "cell_type": "code",
     "collapsed": false,
     "input": [
      "# FIND GAME\n",
      "\n",
      "from betlib.models.season import find_season_by_championship_years\n",
      "from betlib.models.team import find_team_by_name\n",
      "from betlib.models.game import find_games\n",
      "\n",
      "from bson import ObjectId\n",
      "\n",
      "\n",
      "season = find_season_by_championship_years(game_params[\"championship\"], game_params[\"years\"])\n",
      "team_H = find_team_by_name(game_params[\"team_H\"])\n",
      "team_A = find_team_by_name(game_params[\"team_A\"])\n",
      "\n",
      "# {\"season\": }\n",
      "games = find_games({\"team_H\": ObjectId(team_H[\"_id\"]), \"team_A\": ObjectId(team_A[\"_id\"])})\n",
      "\n",
      "games = list(games)\n",
      "\n",
      "for day in season[\"games\"]:\n",
      "    for game in season[\"games\"][day]:\n",
      "#        print game\n",
      "        for _game in list(games):\n",
      "#            print _game[\"_id\"]\n",
      "            if _game[\"_id\"] == game:\n",
      "               ft_game = _game\n",
      "\n",
      "print team_H[\"name\"] + \" - \" + team_A[\"name\"]\n",
      "print \"\\t\" + ft_game[\"score\"][\"score_H\"] + \" - \" + ft_game[\"score\"][\"score_A\"]\n",
      "print ft_game[\"date\"][\"date\"]\n",
      "print ft_game[\"date\"][\"hour\"]"
     ],
     "language": "python",
     "metadata": {},
     "outputs": [
      {
       "output_type": "stream",
       "stream": "stdout",
       "text": [
        "paris saint germain - rennes\n",
        "\t - \n",
        "samedi 31 janvier 2015\n",
        "20h00\n"
       ]
      }
     ],
     "prompt_number": 18
    },
    {
     "cell_type": "code",
     "collapsed": false,
     "input": [],
     "language": "python",
     "metadata": {},
     "outputs": [],
     "prompt_number": 42
    },
    {
     "cell_type": "heading",
     "level": 2,
     "metadata": {},
     "source": [
      "Game analysis"
     ]
    },
    {
     "cell_type": "heading",
     "level": 3,
     "metadata": {},
     "source": []
    },
    {
     "cell_type": "code",
     "collapsed": false,
     "input": [],
     "language": "python",
     "metadata": {},
     "outputs": []
    },
    {
     "cell_type": "code",
     "collapsed": false,
     "input": [],
     "language": "python",
     "metadata": {},
     "outputs": []
    },
    {
     "cell_type": "heading",
     "level": 2,
     "metadata": {},
     "source": [
      "Home team analysis"
     ]
    },
    {
     "cell_type": "code",
     "collapsed": false,
     "input": [
      "### Home team\n",
      "# classement g\u00e9n\u00e9ral\n",
      "# classement a domicile\n",
      "# nombre de victoire a domicile, nul et d\u00e9faite\n"
     ],
     "language": "python",
     "metadata": {},
     "outputs": [],
     "prompt_number": 5
    },
    {
     "cell_type": "code",
     "collapsed": false,
     "input": [],
     "language": "python",
     "metadata": {},
     "outputs": []
    },
    {
     "cell_type": "code",
     "collapsed": false,
     "input": [],
     "language": "python",
     "metadata": {},
     "outputs": []
    },
    {
     "cell_type": "code",
     "collapsed": false,
     "input": [],
     "language": "python",
     "metadata": {},
     "outputs": []
    },
    {
     "cell_type": "heading",
     "level": 2,
     "metadata": {},
     "source": [
      "Away team analysis"
     ]
    },
    {
     "cell_type": "code",
     "collapsed": false,
     "input": [
      "### Away team\n",
      "# classement g\u00e9n\u00e9ral\n",
      "# classement a domicile\n",
      "# nombre de victoire a l'exterieur, nul et d\u00e9faite\n",
      "\n"
     ],
     "language": "python",
     "metadata": {},
     "outputs": [],
     "prompt_number": 7
    },
    {
     "cell_type": "code",
     "collapsed": false,
     "input": [],
     "language": "python",
     "metadata": {},
     "outputs": []
    }
   ],
   "metadata": {}
  }
 ]
}